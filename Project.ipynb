{
 "cells": [
  {
   "cell_type": "code",
   "execution_count": 4,
   "id": "a87427db-0275-4f16-b0d8-ab31178ac6d6",
   "metadata": {},
   "outputs": [],
   "source": [
    "import networkx as nx\n",
    "import numpy as np\n",
    "import matplotlib\n",
    "import matplotlib.pylab as plt\n",
    "import random as rnd\n",
    "%matplotlib inline"
   ]
  },
  {
   "cell_type": "code",
   "execution_count": 7,
   "id": "30e6f7a9-8c78-47df-833f-89f27890f5e8",
   "metadata": {},
   "outputs": [],
   "source": [
    "def predictor_Baseline():\n",
    "    return rnd.random()\n",
    "\n",
    "def predictor_Jaccard(Gx,i,j):\n",
    "    j_temp = nx.jaccard_coefficient(Gx, [(i,j)])\n",
    "    for u,v,p in j_temp:\n",
    "        jaccard = p\n",
    "    n = Gx.order()\n",
    "    return jaccard + rnd.uniform(0,1/(10*n))\n",
    "\n",
    "def predictor_DegreeProd(Gx,i,j):\n",
    "    d_temp = nx.preferential_attachment(Gx, [(i,j)])\n",
    "    for u,v,p in d_temp:\n",
    "        degreeprod = p\n",
    "    n = Gx.order()\n",
    "    return degreeprod + rnd.uniform(0,1/(10*n))\n",
    "\n",
    "def predictor_iforget(Gx,i,j):\n",
    "    pass\n",
    "\n",
    "def predictor_randomwalk(Gx,i,j):\n",
    "    pass\n",
    "\n",
    "def apply_Predictors(G,Y):\n",
    "    nonedges = []\n",
    "    for i in nx.nodes(G):\n",
    "        for j in nx.nodes(G):\n",
    "            if j>i and not G.has_edge(i,j):\n",
    "                nonedges.append((i,j))\n",
    "    ne = len(nonedges)\n",
    "    \n",
    "    dat = np.zeros([ne,6])\n",
    "    for k,x in enumerate(nonedges):\n",
    "        \n",
    "        tau = (i,j) in Y\n",
    "        baseline = predictor_Baseline()\n",
    "        jaccard = predictor_Jaccard(G,x[0],x[1])\n",
    "        degree = predictor_DegreeProd(G,x[0],x[1])\n",
    "        \n",
    "        dat[k,:] = [x[0],x[1],tau,baseline,jaccard,degree]\n",
    "    return dat\n",
    "\n"
   ]
  },
  {
   "cell_type": "code",
   "execution_count": 8,
   "id": "c35c3953-b768-40bc-8481-a9efdf4b5c0f",
   "metadata": {},
   "outputs": [
    {
     "data": {
      "image/png": "[encoded data removed]",
      "text/plain": [
       "<Figure size 640x480 with 1 Axes>"
      ]
     },
     "metadata": {},
     "output_type": "display_data"
    },
    {
     "name": "stdout",
     "output_type": "stream",
     "text": [
      "i,j : Tau(1=missing) : Baseline : Jaccard : Degree prod  \n",
      "2.0,3.0 : 0.0 : 0.12126700881783103 : 0.5136790735436828 : 2.016157342484861  \n",
      "4.0,5.0 : 0.0 : 0.8609296239512728 : 0.5113759404103668 : 2.004892997084571  \n",
      "3.0,6.0 : 0.0 : 0.24151414172218189 : 0.3428575600452641 : 4.007447205028531  \n",
      "1.0,4.0 : 0.0 : 0.87112506653511 : 0.3428450994065374 : 4.005232195000685  \n",
      "3.0,5.0 : 0.0 : 0.9062436584815544 : 0.01362491733573566 : 2.0135494493757804  \n",
      "1.0,6.0 : 0.0 : 0.8477747870162707 : 0.013426167493143888 : 4.001724286347691  \n",
      "2.0,5.0 : 0.0 : 0.4244422132751 : 0.01293884424557741 : 1.0063934939541317  \n",
      "2.0,6.0 : 0.0 : 0.4756219422232991 : 0.011795112617591535 : 2.012360867155763  \n",
      "1.0,5.0 : 0.0 : 0.9396541629941374 : 0.01125628785174566 : 2.0046929655158356  \n",
      "2.0,4.0 : 0.0 : 0.179127107740933 : 0.0010288251563447795 : 2.0064618276173105  \n"
     ]
    }
   ],
   "source": [
    "Go      = nx.Graph([(1,2),(1,3),(3,4),(5,6),(4,6)]) # observed graph Go, from Lecture 4\n",
    "missing = [(2,3),(4,5)]                             # list of edges missing from Go\n",
    "\n",
    "nx.draw_networkx(Go,with_labels=True,node_size=600,width=2) # draw it pretty\n",
    "limits=plt.axis('off')                                                             # turn off axes\n",
    "plt.show() \n",
    "\n",
    "####################################\n",
    "##### do not modify above here #####\n",
    "\n",
    "### YOUR CODE HERE\n",
    "\n",
    "print(\"{},{} : {} : {} : {} : {}  \".format(\"i\",\"j\",\"Tau(1=missing)\",\"Baseline\",\"Jaccard\",\"Degree prod\"))\n",
    "for y in sorted(apply_Predictors(Go,missing),key=lambda l:l[4],reverse=True):\n",
    "    print(\"{},{} : {} : {} : {} : {}  \".format(y[0],y[1],y[2],y[3],y[4],y[5]))"
   ]
  },
  {
   "cell_type": "code",
   "execution_count": null,
   "id": "efc59238-0b2c-4b52-84ee-31309132c350",
   "metadata": {},
   "outputs": [],
   "source": []
  }
 ],
 "metadata": {
  "kernelspec": {
   "display_name": "Python 3 (ipykernel)",
   "language": "python",
   "name": "python3"
  },
  "language_info": {
   "codemirror_mode": {
    "name": "ipython",
    "version": 3
   },
   "file_extension": ".py",
   "mimetype": "text/x-python",
   "name": "python",
   "nbconvert_exporter": "python",
   "pygments_lexer": "ipython3",
   "version": "3.10.8"
  }
 },
 "nbformat": 4,
 "nbformat_minor": 5
}
